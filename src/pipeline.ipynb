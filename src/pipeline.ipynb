{
 "cells": [
  {
   "cell_type": "markdown",
   "id": "b7754822",
   "metadata": {},
   "source": [
    "# Mucosa area pipeline"
   ]
  },
  {
   "cell_type": "code",
   "execution_count": null,
   "id": "c7efe324",
   "metadata": {},
   "outputs": [],
   "source": []
  },
  {
   "cell_type": "markdown",
   "id": "2dc7ff76",
   "metadata": {},
   "source": [
    "### 1. Skeleton pipeline"
   ]
  },
  {
   "cell_type": "code",
   "execution_count": null,
   "id": "4f212b28",
   "metadata": {},
   "outputs": [
    {
     "name": "stderr",
     "output_type": "stream",
     "text": [
      "/Users/glebsolanik/work/MucosaArea/code/src/algorithms/unfold/skeleton.py:126: UserWarning: Only one label was provided to `remove_small_objects`. Did you mean to use a boolean array?\n",
      "  image_2D = remove_small_objects(image_2D, min_size=100)\n",
      "/Users/glebsolanik/work/MucosaArea/code/src/algorithms/unfold/skeleton.py:127: UserWarning: Any labeled images will be returned as a boolean array. Did you mean to use a boolean array?\n",
      "  image_2D = remove_small_holes(image_2D, area_threshold=100)\n",
      "/Users/glebsolanik/work/MucosaArea/code/src/algorithms/unfold/skeleton.py:126: UserWarning: Only one label was provided to `remove_small_objects`. Did you mean to use a boolean array?\n",
      "  image_2D = remove_small_objects(image_2D, min_size=100)\n",
      "/Users/glebsolanik/work/MucosaArea/code/src/algorithms/unfold/skeleton.py:127: UserWarning: Any labeled images will be returned as a boolean array. Did you mean to use a boolean array?\n",
      "  image_2D = remove_small_holes(image_2D, area_threshold=100)\n"
     ]
    }
   ],
   "source": [
    "from algorithms.unfold.skeleton import unfold_skeleton\n",
    "from utils.save import save_unfold_to_vtk\n",
    "\n",
    "file_path = \"/Users/glebsolanik/work/MucosaArea/code/dataset/with_perforation/label_1.nrrd\"\n",
    "\n",
    "segmentation_image = unfold_skeleton(file_path, (87, 289))\n",
    "save_unfold_to_vtk(segmentation_image)"
   ]
  },
  {
   "cell_type": "markdown",
   "id": "e23e8daf",
   "metadata": {},
   "source": [
    "### 2. Spline pipeline"
   ]
  },
  {
   "cell_type": "code",
   "execution_count": null,
   "id": "3957e0c9",
   "metadata": {},
   "outputs": [],
   "source": [
    "from algorithms.unfold.spline import unfold_spline\n",
    "\n",
    "file_path = \"/Users/glebsolanik/work/MucosaArea/code/dataset/with_perforation/label_1.nrrd\"\n",
    "\n",
    "segmentation_image = unfold_spline(file_path, (171, 263))\n",
    "save_unfold_to_vtk(segmentation_image)"
   ]
  }
 ],
 "metadata": {
  "kernelspec": {
   "display_name": "Python 3",
   "language": "python",
   "name": "python3"
  },
  "language_info": {
   "codemirror_mode": {
    "name": "ipython",
    "version": 3
   },
   "file_extension": ".py",
   "mimetype": "text/x-python",
   "name": "python",
   "nbconvert_exporter": "python",
   "pygments_lexer": "ipython3",
   "version": "3.9.20"
  }
 },
 "nbformat": 4,
 "nbformat_minor": 5
}
